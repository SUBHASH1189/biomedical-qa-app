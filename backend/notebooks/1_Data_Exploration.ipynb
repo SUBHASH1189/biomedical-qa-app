{
 "cells": [
  {
   "cell_type": "code",
   "execution_count": 4,
   "id": "3e413098",
   "metadata": {},
   "outputs": [
    {
     "name": "stdout",
     "output_type": "stream",
     "text": [
      "Attempting to download and load the 'pubmed_qa' dataset with the 'pqa_labeled' configuration...\n"
     ]
    },
    {
     "name": "stderr",
     "output_type": "stream",
     "text": [
      "Xet Storage is enabled for this repo, but the 'hf_xet' package is not installed. Falling back to regular HTTP download. For better performance, install the package with: `pip install huggingface_hub[hf_xet]` or `pip install hf_xet`\n",
      "Generating train split: 100%|██████████| 1000/1000 [00:00<00:00, 76896.21 examples/s]"
     ]
    },
    {
     "name": "stdout",
     "output_type": "stream",
     "text": [
      "\n",
      "✅ Dataset loaded successfully!\n",
      "Dataset({\n",
      "    features: ['pubid', 'question', 'context', 'long_answer', 'final_decision'],\n",
      "    num_rows: 1000\n",
      "})\n"
     ]
    },
    {
     "name": "stderr",
     "output_type": "stream",
     "text": [
      "\n"
     ]
    }
   ],
   "source": [
    "# Cell 1: Import and Load the Dataset (Corrected Version 2)\n",
    "\n",
    "from datasets import load_dataset\n",
    "\n",
    "# Use the canonical dataset name \"pubmed_qa\" and the \"pqa_labeled\" configuration.\n",
    "# This name is explicitly listed in the error message as a valid option.\n",
    "try:\n",
    "    print(\"Attempting to download and load the 'pubmed_qa' dataset with the 'pqa_labeled' configuration...\")\n",
    "    \n",
    "    dataset = load_dataset(\n",
    "        \"pubmed_qa\",\n",
    "        \"pqa_labeled\",  # CORRECTED: Use the full name as specified in the error message\n",
    "        split='train'\n",
    "    )\n",
    "    \n",
    "    print(\"\\n✅ Dataset loaded successfully!\")\n",
    "    print(dataset)\n",
    "\n",
    "except Exception as e:\n",
    "    print(f\"\\n❌ An error occurred while loading the dataset.\")\n",
    "    print(f\"Error details: {e}\")"
   ]
  },
  {
   "cell_type": "code",
   "execution_count": 5,
   "id": "17606b05",
   "metadata": {},
   "outputs": [
    {
     "name": "stdout",
     "output_type": "stream",
     "text": [
      "--- QUESTION ---\n",
      "Type: <class 'str'>\n",
      "Content: A short stay or 23-hour ward in a general and academic children's hospital: are they effective?\n",
      "\n",
      "--- CONTEXT ---\n",
      "Type: <class 'dict'>\n",
      "Content: We evaluated the usefulness of a short stay or 23-hour ward in a pediatric unit of a large teaching hospital, Westmead Hospital, and an academic Children's hospital, The New Children's Hospital, to determine if they are a useful addition to the emergency service.\n",
      "\n",
      "--- ANSWER ---\n",
      "Type: <class 'str'>\n",
      "Content: This data demonstrates the robust nature of the short stay ward. At these two very different institutions we have shown improved bed efficient and patient care in a cost-effective way. We have also reported on greater parental satisfaction and early return of the child with their family to the community.\n"
     ]
    }
   ],
   "source": [
    "# Let's examine the 10th entry in the dataset.\n",
    "sample = dataset[9]\n",
    "\n",
    "print(\"--- QUESTION ---\")\n",
    "print(f\"Type: {type(sample['question'])}\")\n",
    "print(f\"Content: {sample['question']}\")\n",
    "\n",
    "print(\"\\n--- CONTEXT ---\")\n",
    "# IMPORTANT: Notice the nested structure. The text is inside a dictionary and then a list.\n",
    "# We will need to access it with sample['context']['contexts'][0]\n",
    "print(f\"Type: {type(sample['context'])}\")\n",
    "print(f\"Content: {sample['context']['contexts'][0]}\")\n",
    "\n",
    "print(\"\\n--- ANSWER ---\")\n",
    "print(f\"Type: {type(sample['long_answer'])}\")\n",
    "print(f\"Content: {sample['long_answer']}\")"
   ]
  },
  {
   "cell_type": "code",
   "execution_count": null,
   "id": "e3df5cc8",
   "metadata": {},
   "outputs": [],
   "source": []
  }
 ],
 "metadata": {
  "kernelspec": {
   "display_name": "myenv (3.9.0)",
   "language": "python",
   "name": "python3"
  },
  "language_info": {
   "codemirror_mode": {
    "name": "ipython",
    "version": 3
   },
   "file_extension": ".py",
   "mimetype": "text/x-python",
   "name": "python",
   "nbconvert_exporter": "python",
   "pygments_lexer": "ipython3",
   "version": "3.9.0"
  }
 },
 "nbformat": 4,
 "nbformat_minor": 5
}
